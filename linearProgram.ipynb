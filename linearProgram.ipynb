{
 "cells": [
  {
   "cell_type": "markdown",
   "metadata": {},
   "source": [
    "# Lets look at an example Linear Program for a supply chain material constrainted problem \n",
    "\n",
    "**Example**\n",
    "lets say that we a manufacturing company and we have two main products (tables and chairs)\n",
    "\n",
    "We can sell each table for `$30` and each chair for `$45`. But both tables and chairs are made up of similar materials but both only require a certain amount of both materials to produce one of said product.\n",
    "\n",
    "say in order to make a table (x) it requires `22` wood and `15` steel per table\n",
    "and to make a chair (x2) it requires `45` wood and `10` steel per chair\n",
    "\n",
    "but we only have a certain amount of wood(`5500`) and steel(`2500`) avalible to make our products. So we must distribute the resources so we waste the least amount and make the most amount of money for the amount of material we have.\n",
    "\n",
    "**Reformulating Example**\n",
    "we can reformulate the problem into a Maximization problem of we can make x amount of tables and x2 amount of chairs\n",
    "so we want to find \n",
    "\n",
    "`f(x) = Max(30x + 45x2)` with the constraints of wood `(22x + 45x2) <= 5500` and steel `(15x + 10x2) <= 2500` and of course we want to make a positive amount of tables and chairs so `x,x2 >= 0`. Concisely this looks like\n",
    "```\n",
    "f(x) = Max(30x + 45x2)\n",
    "Subject to. \n",
    "(22x + 45x2) <= 5500\n",
    "(15x + 10x2) <= 2500\n",
    "x,x2 >= 0\n",
    "```\n",
    "\n",
    "*We can see this problem formulated and solved with the cvxpy library below, But if you were to solve it manualy look up simplex method since this is a linear program or look into the interior point method*\n",
    "\n",
    "We can see a graphical solution (hence only two variable) https://www.desmos.com/calculator/su3zgtoa8j"
   ]
  },
  {
   "cell_type": "code",
   "execution_count": 8,
   "metadata": {},
   "outputs": [
    {
     "name": "stdout",
     "output_type": "stream",
     "text": [
      "The max amount of money we can make on these chairs and tables is: 6510.989009341022\n",
      "table (x) amount is:  126.37362623933787\n",
      "chair (x2) amount is:  60.43956049246413\n"
     ]
    }
   ],
   "source": [
    "import cvxpy as cp\n",
    "\n",
    "x = cp.Variable()\n",
    "x2 = cp.Variable()\n",
    "\n",
    "variableConstraints = x >= 0 \n",
    "variableConstraints1 = x2 >= 0\n",
    "woodConstraint = 22*x + 45*x2 <= 5500\n",
    "steelConstraint = 15*x + 10*x2 <= 2500\n",
    "\n",
    "constraints = [variableConstraints, variableConstraints1, woodConstraint, steelConstraint]\n",
    "problem = cp.Problem(cp.Maximize(30*x + 45*x2), constraints)\n",
    "print(\"The max amount of money we can make on these chairs and tables is:\", problem.solve())\n",
    "print(\"table (x) amount is: \", x.value)\n",
    "print(\"chair (x2) amount is: \",  x2.value)"
   ]
  },
  {
   "cell_type": "markdown",
   "metadata": {},
   "source": [
    "#### Futher depth\n",
    "Now you may notice that for this problem we only have have two products that are being sold but this can be applied further to mutliple products by just adding another x column. We come into the problem where if we want to add another product it forces us to recompute the values which in a larger system with more variables is valubale time and should be considered when creating this sort of system.\n",
    "\n",
    "But we can avoid some compute time by taking the dual of this problem. (this is a topic for another time, I actually used this same example to show the dual for a class presentation) and then determine if the feasible bound on the dual changed. The same process could be said for adding a new constraint except we do not take the dual we just add a new row and then check to see if the problem is still feasible and if so did the feasible set change and if so we need to recompute."
   ]
  },
  {
   "cell_type": "code",
   "execution_count": null,
   "metadata": {},
   "outputs": [],
   "source": []
  },
  {
   "cell_type": "code",
   "execution_count": null,
   "metadata": {},
   "outputs": [],
   "source": []
  }
 ],
 "metadata": {
  "kernelspec": {
   "display_name": "Python 3",
   "language": "python",
   "name": "python3"
  },
  "language_info": {
   "codemirror_mode": {
    "name": "ipython",
    "version": 3
   },
   "file_extension": ".py",
   "mimetype": "text/x-python",
   "name": "python",
   "nbconvert_exporter": "python",
   "pygments_lexer": "ipython3",
   "version": "3.7.7"
  }
 },
 "nbformat": 4,
 "nbformat_minor": 4
}
