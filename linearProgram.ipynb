{
 "cells": [
  {
   "cell_type": "markdown",
   "metadata": {},
   "source": [
    "# Lets look at an example Linear Program for a supply constrainted problem \n",
    "\n",
    "**Example**\n",
    "\n",
    "lets say that we are a manufacturing company and we have two main products (tables and chairs)\n",
    "\n",
    "We can sell each `table for 30` and each `chair for 45`. But both tables and chairs are made up of similar materials and require a certain amount of each to produce one table or chair.\n",
    "\n",
    "Say in order to make a table it requires `22 wood` and `15 steel`\n",
    "and to make a chair it requires `45 wood` and `10 steel`.\n",
    "\n",
    "But we only have a certain amount of `wood(5500)` and `steel(2500)` avalible to make our products. So we must distribute the resources effectively such that we waste the least amount and make the most amount of money.\n",
    "\n",
    "So all in all \n",
    "    We want to Maximize total earned\n",
    "    with constriants of\n",
    "    total wood and steel avalible\n",
    "\n",
    "**Converting Example to standard form**\n",
    "\n",
    "we can reformulate the problem into a Maximization problem of we can make the amount of `tables = x` and amount of `chairs = x2`\n",
    "\n",
    "so we want to find \n",
    "\n",
    "`f(x, x2) = Max(30x + 45x2)` with the constraints of wood `(22x + 45x2) <= 5500` and steel `(15x + 10x2) <= 2500` and of course we want to make a positive amount of tables and chairs so `x,x2 >= 0`. Concisely this looks like\n",
    "```\n",
    "f(x) = Max(30x + 45x2)\n",
    "Subject to. \n",
    "(22x + 45x2) <= 5500\n",
    "(15x + 10x2) <= 2500\n",
    "x,x2 >= 0\n",
    "```\n",
    "\n",
    "*We can see this problem formulated and solved with the cvxpy library below, But if you were to solve it manualy look up simplex method since this is a linear program or look into the interior point method*\n",
    "\n",
    "We can see a graphical solution (hence only two variable) https://www.desmos.com/calculator/su3zgtoa8j"
   ]
  },
  {
   "cell_type": "code",
   "execution_count": 23,
   "metadata": {},
   "outputs": [
    {
     "name": "stdout",
     "output_type": "stream",
     "text": [
      "The max amount of money we can make on these chairs and tables is: 6510.989009341022\n",
      "table (x) amount is:  126.37362623933787\n",
      "chair (x2) amount is:  60.43956049246413\n"
     ]
    }
   ],
   "source": [
    "import cvxpy as cp\n",
    "\n",
    "# Defining the variables we want to solve for\n",
    "x = cp.Variable()\n",
    "x2 = cp.Variable()\n",
    "\n",
    "# This is our objective function we want to maximize\n",
    "objective = cp.Maximize(30*x + 45*x2)\n",
    "\n",
    "# These are our constrints representive indiviually as inequalities\n",
    "variableConstraints = (x >= 0)\n",
    "variableConstraints1 = (x2 >= 0)\n",
    "woodConstraint = (22*x + 45*x2 <= 5500)\n",
    "steelConstraint = (15*x + 10*x2 <= 2500)\n",
    "glueConstraint = (3*x + 2*x2 <= 550)\n",
    "# we put all the constraints into a container(array) called constraints\n",
    "constraints = [variableConstraints, variableConstraints1, woodConstraint, steelConstraint]\n",
    "\n",
    "# Now we have our formulated problem\n",
    "problem = cp.Problem(objective, constraints)\n",
    "\n",
    "# outputing the results\n",
    "print(\"The max amount of money we can make on these chairs and tables is:\", problem.solve())\n",
    "print(\"table (x) amount is: \", x.value)\n",
    "print(\"chair (x2) amount is: \",  x2.value)"
   ]
  },
  {
   "cell_type": "markdown",
   "metadata": {},
   "source": [
    "## Adding a new constraint (feasibility analysis) \n",
    "\n",
    "Lets go back to the example and say that we find out after computing our values that we need we find out that we actually have another product which we have a limited supply of and it is also required. That product is Glue\n",
    "\n",
    "Say that for each `Table it costs 3 glue` and for a `Chair it cost 2 glue` and we only `have 550 glue`.\n",
    "\n",
    "Then it would be pretty easy to add a new constraint as it would just be\n",
    "```\n",
    "glueConstraint = (3*x + 2*x2 <= 550)\n",
    "```\n",
    "\n",
    "now we can plug our previous values into the inequality and we can see if our previous anwser holds\n",
    "```\n",
    "3(126) + 2(60) <= 550 True\n",
    "```\n",
    "Now since the result was true then that means we dont need to do anything because we are already at a feasibility point. \n"
   ]
  },
  {
   "cell_type": "code",
   "execution_count": 24,
   "metadata": {},
   "outputs": [
    {
     "name": "stdout",
     "output_type": "stream",
     "text": [
      "The new max that we can possibly make: 6510.989009058838\n",
      "The new x and x2 values respectivly:  126.37362628453253 60.439560456063575\n"
     ]
    }
   ],
   "source": [
    "newConstraints = constraints + [3*x + 2*x2 <= 550]\n",
    "problem = cp.Problem(objective, newConstraints)\n",
    "\n",
    "print(\"The new max that we can possibly make:\", problem.solve())\n",
    "print(\"The new x and x2 values respectivly: \", x.value, x2.value)"
   ]
  },
  {
   "cell_type": "markdown",
   "metadata": {},
   "source": [
    "We can see that the results were the same as without the new constraint so no need to recompute since we know this to be true.\n",
    "\n",
    "But say instead we only have 300 glue avalible then that means \n",
    "```\n",
    "3(126) + 2(60) <= 300 False\n",
    "```\n",
    "and then we would need to recompute a new feasible value\n",
    "\n",
    "with the added constraint of \n",
    "```\n",
    "glueConstraint = (3*x + 2*x2 <= 300)\n",
    "```"
   ]
  },
  {
   "cell_type": "code",
   "execution_count": 25,
   "metadata": {},
   "outputs": [
    {
     "name": "stdout",
     "output_type": "stream",
     "text": [
      "The new max that we can possibly make: 5719.7802170083605\n",
      "The new x and x2 values respectivly:  27.472527201573207 108.79120891024809\n"
     ]
    }
   ],
   "source": [
    "newConstraints = constraints + [3*x + 2*x2 <= 300]\n",
    "problem = cp.Problem(objective, newConstraints)\n",
    "\n",
    "print(\"The new max that we can possibly make:\", problem.solve())\n",
    "print(\"The new x and x2 values respectivly: \", x.value, x2.value)"
   ]
  },
  {
   "cell_type": "markdown",
   "metadata": {},
   "source": [
    "We can see that we get drastically different values for x and x2 because of this new constraint. And we get a smaller value in the objective function\n",
    "\n",
    "Now adding a new constraint is pretty straight forward but next we're going to take a look at adding a new product which invloves the dual problem."
   ]
  },
  {
   "cell_type": "markdown",
   "metadata": {},
   "source": [
    "## Adding new product (Dual Problem)"
   ]
  },
  {
   "cell_type": "markdown",
   "metadata": {},
   "source": []
  },
  {
   "cell_type": "code",
   "execution_count": null,
   "metadata": {},
   "outputs": [],
   "source": []
  },
  {
   "cell_type": "code",
   "execution_count": null,
   "metadata": {},
   "outputs": [],
   "source": []
  }
 ],
 "metadata": {
  "kernelspec": {
   "display_name": "Python 3",
   "language": "python",
   "name": "python3"
  },
  "language_info": {
   "codemirror_mode": {
    "name": "ipython",
    "version": 3
   },
   "file_extension": ".py",
   "mimetype": "text/x-python",
   "name": "python",
   "nbconvert_exporter": "python",
   "pygments_lexer": "ipython3",
   "version": "3.7.7"
  }
 },
 "nbformat": 4,
 "nbformat_minor": 4
}
